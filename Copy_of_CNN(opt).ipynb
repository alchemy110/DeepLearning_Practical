{
  "cells": [
    {
      "cell_type": "markdown",
      "metadata": {
        "id": "view-in-github",
        "colab_type": "text"
      },
      "source": [
        "<a href=\"https://colab.research.google.com/github/alchemy110/DeepLearning_Practical/blob/main/Copy_of_CNN(opt).ipynb\" target=\"_parent\"><img src=\"https://colab.research.google.com/assets/colab-badge.svg\" alt=\"Open In Colab\"/></a>"
      ]
    },
    {
      "cell_type": "code",
      "execution_count": 20,
      "metadata": {
        "id": "wPCUfCTzKedw"
      },
      "outputs": [],
      "source": [
        "from tensorflow import keras\n",
        "from tensorflow.keras.datasets import fashion_mnist\n",
        "from tensorflow.keras import layers, Model\n",
        "from tensorflow.keras import Input\n",
        "from tensorflow.keras.utils  import to_categorical\n",
        "import numpy as np\n",
        "from keras.layers import Dropout\n",
        "from keras.optimizers import Adam\n",
        "from tensorflow.keras.layers import Dropout\n",
        "from tensorflow.keras.regularizers import l2"
      ]
    },
    {
      "cell_type": "code",
      "execution_count": 2,
      "metadata": {
        "id": "4pYbhx8TLZYz"
      },
      "outputs": [],
      "source": [
        "%%capture\n",
        "(train_images, train_labels), (test_images, test_labels) = fashion_mnist.load_data()"
      ]
    },
    {
      "cell_type": "code",
      "execution_count": null,
      "metadata": {
        "colab": {
          "base_uri": "https://localhost:8080/"
        },
        "id": "FLunF5_HHivV",
        "outputId": "f0670efd-3d93-4a3f-b7c5-6310ab088126"
      },
      "outputs": [
        {
          "data": {
            "text/plain": [
              "(60000, 10)"
            ]
          },
          "execution_count": 58,
          "metadata": {},
          "output_type": "execute_result"
        }
      ],
      "source": [
        "train_labels.shape"
      ]
    },
    {
      "cell_type": "code",
      "execution_count": null,
      "metadata": {
        "colab": {
          "base_uri": "https://localhost:8080/"
        },
        "id": "4FF0oBw6NrdB",
        "outputId": "a262808b-19ac-4d07-b030-df432c03acb2"
      },
      "outputs": [
        {
          "data": {
            "text/plain": [
              "(60000, 28, 28)"
            ]
          },
          "execution_count": 64,
          "metadata": {},
          "output_type": "execute_result"
        }
      ],
      "source": [
        "train_images.shape"
      ]
    },
    {
      "cell_type": "code",
      "execution_count": 3,
      "metadata": {
        "id": "TzBw72HlLuSr"
      },
      "outputs": [],
      "source": [
        "train_images = train_images.reshape(60000, 28, 28)\n",
        "train_images = train_images.astype(\"float32\") / 255.0\n",
        "test_images = test_images.reshape(10000, 28, 28)\n",
        "test_images = test_images.astype(\"float32\") / 255.0"
      ]
    },
    {
      "cell_type": "code",
      "execution_count": null,
      "metadata": {
        "colab": {
          "base_uri": "https://localhost:8080/"
        },
        "id": "BGWGJzSYLEpn",
        "outputId": "4f18c889-8faa-45f9-bb40-3ae6528a365a"
      },
      "outputs": [
        {
          "data": {
            "text/plain": [
              "(60000, 28, 28)"
            ]
          },
          "execution_count": 60,
          "metadata": {},
          "output_type": "execute_result"
        }
      ],
      "source": [
        "train_images.shape"
      ]
    },
    {
      "cell_type": "code",
      "execution_count": null,
      "metadata": {
        "colab": {
          "base_uri": "https://localhost:8080/"
        },
        "id": "ZYIRzzujSgrA",
        "outputId": "59a3d527-4ab5-40af-85b9-7aec960776b0"
      },
      "outputs": [
        {
          "data": {
            "text/plain": [
              "(60000, 10)"
            ]
          },
          "execution_count": 80,
          "metadata": {},
          "output_type": "execute_result"
        }
      ],
      "source": [
        "train_labels.shape"
      ]
    },
    {
      "cell_type": "code",
      "execution_count": null,
      "metadata": {
        "colab": {
          "base_uri": "https://localhost:8080/"
        },
        "id": "4p8i_JK5Spl_",
        "outputId": "af3a1f4a-9240-4775-cc44-b0d8ab43d40e"
      },
      "outputs": [
        {
          "data": {
            "text/plain": [
              "(10000, 10)"
            ]
          },
          "execution_count": 81,
          "metadata": {},
          "output_type": "execute_result"
        }
      ],
      "source": [
        "test_labels.shape"
      ]
    },
    {
      "cell_type": "code",
      "execution_count": 21,
      "metadata": {
        "colab": {
          "base_uri": "https://localhost:8080/"
        },
        "id": "hEzck6Z3DlK0",
        "outputId": "4d666f6b-8c1e-4342-cc45-8756385cfe05"
      },
      "outputs": [
        {
          "output_type": "stream",
          "name": "stdout",
          "text": [
            "Model: \"model_3\"\n",
            "_________________________________________________________________\n",
            " Layer (type)                Output Shape              Param #   \n",
            "=================================================================\n",
            " input_7 (InputLayer)        [(None, 28, 28, 1)]       0         \n",
            "                                                                 \n",
            " conv2d_12 (Conv2D)          (None, 28, 28, 32)        320       \n",
            "                                                                 \n",
            " batch_normalization_12 (Bat  (None, 28, 28, 32)       128       \n",
            " chNormalization)                                                \n",
            "                                                                 \n",
            " activation_12 (Activation)  (None, 28, 28, 32)        0         \n",
            "                                                                 \n",
            " max_pooling2d_12 (MaxPoolin  (None, 14, 14, 32)       0         \n",
            " g2D)                                                            \n",
            "                                                                 \n",
            " conv2d_13 (Conv2D)          (None, 14, 14, 64)        18496     \n",
            "                                                                 \n",
            " batch_normalization_13 (Bat  (None, 14, 14, 64)       256       \n",
            " chNormalization)                                                \n",
            "                                                                 \n",
            " activation_13 (Activation)  (None, 14, 14, 64)        0         \n",
            "                                                                 \n",
            " max_pooling2d_13 (MaxPoolin  (None, 7, 7, 64)         0         \n",
            " g2D)                                                            \n",
            "                                                                 \n",
            " flatten_6 (Flatten)         (None, 3136)              0         \n",
            "                                                                 \n",
            " dropout_1 (Dropout)         (None, 3136)              0         \n",
            "                                                                 \n",
            " dense_6 (Dense)             (None, 64)                200768    \n",
            "                                                                 \n",
            " dense_7 (Dense)             (None, 10)                650       \n",
            "                                                                 \n",
            "=================================================================\n",
            "Total params: 220,618\n",
            "Trainable params: 220,426\n",
            "Non-trainable params: 192\n",
            "_________________________________________________________________\n"
          ]
        }
      ],
      "source": [
        "inp = Input(shape=(28, 28, 1))\n",
        "x = layers.Conv2D(32,(3, 3), padding='same', kernel_regularizer=l2(0.001))(inp)\n",
        "x = layers.BatchNormalization()(x)\n",
        "x = layers.Activation('relu')(x)\n",
        "x = layers.MaxPool2D()(x)\n",
        "x = layers.Conv2D(64,(3 ,3), activation='relu', padding='same')(x)\n",
        "x = layers.BatchNormalization()(x)\n",
        "x = layers.Activation('relu')(x)\n",
        "x = layers.MaxPool2D()(x)\n",
        "x = layers.Flatten()(x)\n",
        "x= layers.Dropout(0.5)(x)\n",
        "x = layers.Dense(64, activation='relu',kernel_regularizer =l2(0.001))(x)\n",
        "out = layers.Dense(10, activation='softmax')(x)\n",
        "\n",
        "model_cnn = Model(inputs=inp, outputs=out)\n",
        "model_cnn.summary()"
      ]
    },
    {
      "cell_type": "code",
      "execution_count": 22,
      "metadata": {
        "id": "czO2CzaDzz93"
      },
      "outputs": [],
      "source": [
        "from tensorflow.keras import optimizers\n",
        "from  tensorflow.keras.optimizers  import  Adam\n",
        "model_cnn.compile(optimizer=\"adam\", loss='sparse_categorical_crossentropy',metrics=['accuracy'])\n"
      ]
    },
    {
      "cell_type": "code",
      "execution_count": 23,
      "metadata": {
        "colab": {
          "base_uri": "https://localhost:8080/"
        },
        "id": "vCHojI-ANEtt",
        "outputId": "fc1b3af2-3fc0-4fc1-c639-4cff58d1fc09"
      },
      "outputs": [
        {
          "output_type": "stream",
          "name": "stdout",
          "text": [
            "Epoch 1/30\n",
            "118/118 [==============================] - 4s 20ms/step - loss: 0.7883 - accuracy: 0.7745 - val_loss: 2.3452 - val_accuracy: 0.7038\n",
            "Epoch 2/30\n",
            "118/118 [==============================] - 2s 17ms/step - loss: 0.4861 - accuracy: 0.8612 - val_loss: 2.0878 - val_accuracy: 0.8192\n",
            "Epoch 3/30\n",
            "118/118 [==============================] - 2s 17ms/step - loss: 0.4166 - accuracy: 0.8820 - val_loss: 1.2838 - val_accuracy: 0.8436\n",
            "Epoch 4/30\n",
            "118/118 [==============================] - 2s 16ms/step - loss: 0.3775 - accuracy: 0.8926 - val_loss: 0.5762 - val_accuracy: 0.8940\n",
            "Epoch 5/30\n",
            "118/118 [==============================] - 2s 16ms/step - loss: 0.3525 - accuracy: 0.8973 - val_loss: 0.3970 - val_accuracy: 0.9000\n",
            "Epoch 6/30\n",
            "118/118 [==============================] - 2s 16ms/step - loss: 0.3251 - accuracy: 0.9050 - val_loss: 0.3298 - val_accuracy: 0.9033\n",
            "Epoch 7/30\n",
            "118/118 [==============================] - 2s 16ms/step - loss: 0.3059 - accuracy: 0.9090 - val_loss: 0.3182 - val_accuracy: 0.9057\n",
            "Epoch 8/30\n",
            "118/118 [==============================] - 2s 16ms/step - loss: 0.2896 - accuracy: 0.9135 - val_loss: 0.3523 - val_accuracy: 0.8906\n",
            "Epoch 9/30\n",
            "118/118 [==============================] - 2s 17ms/step - loss: 0.2835 - accuracy: 0.9153 - val_loss: 0.3777 - val_accuracy: 0.8829\n",
            "Epoch 10/30\n",
            "118/118 [==============================] - 2s 17ms/step - loss: 0.2714 - accuracy: 0.9193 - val_loss: 0.3006 - val_accuracy: 0.9098\n",
            "Epoch 11/30\n",
            "118/118 [==============================] - 2s 16ms/step - loss: 0.2632 - accuracy: 0.9226 - val_loss: 0.2939 - val_accuracy: 0.9113\n",
            "Epoch 12/30\n",
            "118/118 [==============================] - 2s 16ms/step - loss: 0.2560 - accuracy: 0.9237 - val_loss: 0.3382 - val_accuracy: 0.8935\n",
            "Epoch 13/30\n",
            "118/118 [==============================] - 2s 16ms/step - loss: 0.2595 - accuracy: 0.9223 - val_loss: 0.3018 - val_accuracy: 0.9079\n",
            "Epoch 14/30\n",
            "118/118 [==============================] - 2s 16ms/step - loss: 0.2479 - accuracy: 0.9269 - val_loss: 0.2927 - val_accuracy: 0.9119\n",
            "Epoch 15/30\n",
            "118/118 [==============================] - 2s 16ms/step - loss: 0.2414 - accuracy: 0.9291 - val_loss: 0.2899 - val_accuracy: 0.9142\n",
            "Epoch 16/30\n",
            "118/118 [==============================] - 2s 18ms/step - loss: 0.2390 - accuracy: 0.9308 - val_loss: 0.3219 - val_accuracy: 0.9023\n",
            "Epoch 17/30\n",
            "118/118 [==============================] - 2s 16ms/step - loss: 0.2348 - accuracy: 0.9324 - val_loss: 0.2826 - val_accuracy: 0.9178\n",
            "Epoch 18/30\n",
            "118/118 [==============================] - 2s 16ms/step - loss: 0.2344 - accuracy: 0.9315 - val_loss: 0.2958 - val_accuracy: 0.9108\n",
            "Epoch 19/30\n",
            "118/118 [==============================] - 2s 16ms/step - loss: 0.2301 - accuracy: 0.9345 - val_loss: 0.3011 - val_accuracy: 0.9079\n",
            "Epoch 20/30\n",
            "118/118 [==============================] - 2s 16ms/step - loss: 0.2347 - accuracy: 0.9327 - val_loss: 0.3050 - val_accuracy: 0.9071\n",
            "Epoch 21/30\n",
            "118/118 [==============================] - 2s 16ms/step - loss: 0.2246 - accuracy: 0.9373 - val_loss: 0.2768 - val_accuracy: 0.9203\n",
            "Epoch 22/30\n",
            "118/118 [==============================] - 2s 17ms/step - loss: 0.2263 - accuracy: 0.9377 - val_loss: 0.2820 - val_accuracy: 0.9211\n",
            "Epoch 23/30\n",
            "118/118 [==============================] - 2s 17ms/step - loss: 0.2253 - accuracy: 0.9368 - val_loss: 0.3092 - val_accuracy: 0.9166\n",
            "Epoch 24/30\n",
            "118/118 [==============================] - 2s 16ms/step - loss: 0.2206 - accuracy: 0.9378 - val_loss: 0.2797 - val_accuracy: 0.9217\n",
            "Epoch 25/30\n",
            "118/118 [==============================] - 2s 16ms/step - loss: 0.2167 - accuracy: 0.9406 - val_loss: 0.2878 - val_accuracy: 0.9182\n",
            "Epoch 26/30\n",
            "118/118 [==============================] - 2s 16ms/step - loss: 0.2173 - accuracy: 0.9404 - val_loss: 0.2980 - val_accuracy: 0.9145\n",
            "Epoch 27/30\n",
            "118/118 [==============================] - 2s 16ms/step - loss: 0.2161 - accuracy: 0.9421 - val_loss: 0.3243 - val_accuracy: 0.9035\n",
            "Epoch 28/30\n",
            "118/118 [==============================] - 2s 16ms/step - loss: 0.2171 - accuracy: 0.9416 - val_loss: 0.3118 - val_accuracy: 0.9160\n",
            "Epoch 29/30\n",
            "118/118 [==============================] - 2s 18ms/step - loss: 0.2147 - accuracy: 0.9420 - val_loss: 0.2939 - val_accuracy: 0.9205\n",
            "Epoch 30/30\n",
            "118/118 [==============================] - 2s 16ms/step - loss: 0.2158 - accuracy: 0.9422 - val_loss: 0.3043 - val_accuracy: 0.9152\n"
          ]
        }
      ],
      "source": [
        "history2 = model_cnn.fit (train_images, train_labels,\n",
        "                         epochs=30, batch_size=512,\n",
        "                         validation_data=(test_images, test_labels))"
      ]
    },
    {
      "cell_type": "code",
      "execution_count": 24,
      "metadata": {
        "colab": {
          "base_uri": "https://localhost:8080/",
          "height": 447
        },
        "id": "EUQqvtPHQ_yx",
        "outputId": "a55bf3c1-e016-4100-d22d-2bb82fc0a720"
      },
      "outputs": [
        {
          "output_type": "execute_result",
          "data": {
            "text/plain": [
              "<matplotlib.legend.Legend at 0x7fd9dc3c3820>"
            ]
          },
          "metadata": {},
          "execution_count": 24
        },
        {
          "output_type": "display_data",
          "data": {
            "text/plain": [
              "<Figure size 640x480 with 1 Axes>"
            ],
            "image/png": "[encoded data removed]"
          },
          "metadata": {}
        }
      ],
      "source": [
        "import matplotlib.pyplot as plt\n",
        "\n",
        "plt.plot(history2.history['loss'][1:], label='Train Loss')\n",
        "plt.plot(history2.history['val_loss'][1:], label='Valid Loss')\n",
        "plt.legend()"
      ]
    },
    {
      "cell_type": "code",
      "execution_count": null,
      "metadata": {
        "colab": {
          "base_uri": "https://localhost:8080/",
          "height": 450
        },
        "id": "AeCe-JZhRTNA",
        "outputId": "4496abe3-063c-4f21-f051-7e19b644e028"
      },
      "outputs": [
        {
          "data": {
            "text/plain": [
              "<matplotlib.legend.Legend at 0x7fd8c5ac3dc0>"
            ]
          },
          "execution_count": 11,
          "metadata": {},
          "output_type": "execute_result"
        },
        {
          "data": {
            "image/png": "[encoded data removed]",
            "text/plain": [
              "<Figure size 640x480 with 1 Axes>"
            ]
          },
          "metadata": {},
          "output_type": "display_data"
        }
      ],
      "source": [
        "plt.plot(history2.history['accuracy'][1:], label='Train accuracy')\n",
        "plt.plot(history2.history['val_accuracy'][1:], label='Valid accuracy')\n",
        "plt.legend()"
      ]
    },
    {
      "cell_type": "code",
      "execution_count": null,
      "metadata": {
        "colab": {
          "base_uri": "https://localhost:8080/"
        },
        "id": "eB8GjSUsToNz",
        "outputId": "e9126c10-34d6-4206-cbd5-f3d7080b4072"
      },
      "outputs": [
        {
          "name": "stdout",
          "output_type": "stream",
          "text": [
            "313/313 [==============================] - 1s 4ms/step - loss: 0.2581 - accuracy: 0.9133\n"
          ]
        },
        {
          "data": {
            "text/plain": [
              "[0.2581343650817871, 0.9132999777793884]"
            ]
          },
          "execution_count": 13,
          "metadata": {},
          "output_type": "execute_result"
        }
      ],
      "source": [
        "plt.plot(history2.history['loss'], label='Train Loss')\n",
        "plt.plot(history2.history['val_loss'], label='Valid Loss')\n",
        "plt.legend()"
      ]
    },
    {
      "cell_type": "code",
      "execution_count": null,
      "metadata": {
        "id": "kajsQuaQgpnl"
      },
      "outputs": [],
      "source": [
        "pred_mlp = model_mlp.predict(X_test1)\n",
        "pred_cnn = model_cnn.predict(X_test2)"
      ]
    }
  ],
  "metadata": {
    "accelerator": "GPU",
    "colab": {
      "provenance": [],
      "include_colab_link": true
    },
    "kernelspec": {
      "display_name": "Python 3",
      "name": "python3"
    },
    "language_info": {
      "name": "python"
    }
  },
  "nbformat": 4,
  "nbformat_minor": 0
}