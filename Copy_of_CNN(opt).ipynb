{
  "cells": [
    {
      "cell_type": "markdown",
      "metadata": {
        "id": "view-in-github",
        "colab_type": "text"
      },
      "source": [
        "<a href=\"https://colab.research.google.com/github/alchemy110/DeepLearning_Practical/blob/main/Copy_of_CNN(opt).ipynb\" target=\"_parent\"><img src=\"https://colab.research.google.com/assets/colab-badge.svg\" alt=\"Open In Colab\"/></a>"
      ]
    },
    {
      "cell_type": "markdown",
      "source": [
        "#CNN in FashionMNIST dataset(opt)"
      ],
      "metadata": {
        "id": "5xZf0CIiXWoa"
      }
    },
    {
      "cell_type": "code",
      "execution_count": 34,
      "metadata": {
        "id": "wPCUfCTzKedw"
      },
      "outputs": [],
      "source": [
        "from tensorflow import keras\n",
        "from tensorflow.keras.datasets import fashion_mnist\n",
        "from tensorflow.keras import layers, Model\n",
        "from tensorflow.keras import Input\n",
        "from tensorflow.keras.utils  import to_categorical\n",
        "import numpy as np\n",
        "from keras.layers import Dropout\n",
        "from keras.optimizers import Adam\n",
        "from tensorflow.keras.layers import Dropout\n",
        "from tensorflow.keras.regularizers import l2"
      ]
    },
    {
      "cell_type": "markdown",
      "source": [
        "## Data Preparation"
      ],
      "metadata": {
        "id": "DcjYopzPXmo0"
      }
    },
    {
      "cell_type": "code",
      "execution_count": 35,
      "metadata": {
        "id": "4pYbhx8TLZYz"
      },
      "outputs": [],
      "source": [
        "%%capture\n",
        "(train_images, train_labels), (test_images, test_labels) = fashion_mnist.load_data()"
      ]
    },
    {
      "cell_type": "code",
      "execution_count": null,
      "metadata": {
        "colab": {
          "base_uri": "https://localhost:8080/"
        },
        "id": "FLunF5_HHivV",
        "outputId": "f0670efd-3d93-4a3f-b7c5-6310ab088126"
      },
      "outputs": [
        {
          "data": {
            "text/plain": [
              "(60000, 10)"
            ]
          },
          "execution_count": 58,
          "metadata": {},
          "output_type": "execute_result"
        }
      ],
      "source": [
        "train_labels.shape"
      ]
    },
    {
      "cell_type": "code",
      "execution_count": null,
      "metadata": {
        "colab": {
          "base_uri": "https://localhost:8080/"
        },
        "id": "4FF0oBw6NrdB",
        "outputId": "a262808b-19ac-4d07-b030-df432c03acb2"
      },
      "outputs": [
        {
          "data": {
            "text/plain": [
              "(60000, 28, 28)"
            ]
          },
          "execution_count": 64,
          "metadata": {},
          "output_type": "execute_result"
        }
      ],
      "source": [
        "train_images.shape"
      ]
    },
    {
      "cell_type": "code",
      "execution_count": 36,
      "metadata": {
        "id": "TzBw72HlLuSr"
      },
      "outputs": [],
      "source": [
        "train_images = train_images.reshape(60000, 28, 28)\n",
        "train_images = train_images.astype(\"float32\") / 255.0\n",
        "test_images = test_images.reshape(10000, 28, 28)\n",
        "test_images = test_images.astype(\"float32\") / 255.0"
      ]
    },
    {
      "cell_type": "code",
      "execution_count": null,
      "metadata": {
        "colab": {
          "base_uri": "https://localhost:8080/"
        },
        "id": "BGWGJzSYLEpn",
        "outputId": "4f18c889-8faa-45f9-bb40-3ae6528a365a"
      },
      "outputs": [
        {
          "data": {
            "text/plain": [
              "(60000, 28, 28)"
            ]
          },
          "execution_count": 60,
          "metadata": {},
          "output_type": "execute_result"
        }
      ],
      "source": [
        "train_images.shape"
      ]
    },
    {
      "cell_type": "code",
      "execution_count": null,
      "metadata": {
        "colab": {
          "base_uri": "https://localhost:8080/"
        },
        "id": "ZYIRzzujSgrA",
        "outputId": "59a3d527-4ab5-40af-85b9-7aec960776b0"
      },
      "outputs": [
        {
          "data": {
            "text/plain": [
              "(60000, 10)"
            ]
          },
          "execution_count": 80,
          "metadata": {},
          "output_type": "execute_result"
        }
      ],
      "source": [
        "train_labels.shape"
      ]
    },
    {
      "cell_type": "code",
      "execution_count": null,
      "metadata": {
        "colab": {
          "base_uri": "https://localhost:8080/"
        },
        "id": "4p8i_JK5Spl_",
        "outputId": "af3a1f4a-9240-4775-cc44-b0d8ab43d40e"
      },
      "outputs": [
        {
          "data": {
            "text/plain": [
              "(10000, 10)"
            ]
          },
          "execution_count": 81,
          "metadata": {},
          "output_type": "execute_result"
        }
      ],
      "source": [
        "test_labels.shape"
      ]
    },
    {
      "cell_type": "markdown",
      "source": [
        "## Model Design"
      ],
      "metadata": {
        "id": "lQsWDlT6X10w"
      }
    },
    {
      "cell_type": "code",
      "execution_count": 37,
      "metadata": {
        "colab": {
          "base_uri": "https://localhost:8080/"
        },
        "id": "hEzck6Z3DlK0",
        "outputId": "cdb5c9ed-25fe-4164-ba5a-035b8569d4b6"
      },
      "outputs": [
        {
          "output_type": "stream",
          "name": "stdout",
          "text": [
            "Model: \"model_4\"\n",
            "_________________________________________________________________\n",
            " Layer (type)                Output Shape              Param #   \n",
            "=================================================================\n",
            " input_8 (InputLayer)        [(None, 28, 28, 1)]       0         \n",
            "                                                                 \n",
            " conv2d_14 (Conv2D)          (None, 28, 28, 32)        320       \n",
            "                                                                 \n",
            " batch_normalization_14 (Bat  (None, 28, 28, 32)       128       \n",
            " chNormalization)                                                \n",
            "                                                                 \n",
            " activation_14 (Activation)  (None, 28, 28, 32)        0         \n",
            "                                                                 \n",
            " max_pooling2d_14 (MaxPoolin  (None, 14, 14, 32)       0         \n",
            " g2D)                                                            \n",
            "                                                                 \n",
            " conv2d_15 (Conv2D)          (None, 14, 14, 64)        18496     \n",
            "                                                                 \n",
            " batch_normalization_15 (Bat  (None, 14, 14, 64)       256       \n",
            " chNormalization)                                                \n",
            "                                                                 \n",
            " activation_15 (Activation)  (None, 14, 14, 64)        0         \n",
            "                                                                 \n",
            " max_pooling2d_15 (MaxPoolin  (None, 7, 7, 64)         0         \n",
            " g2D)                                                            \n",
            "                                                                 \n",
            " flatten_7 (Flatten)         (None, 3136)              0         \n",
            "                                                                 \n",
            " dropout_2 (Dropout)         (None, 3136)              0         \n",
            "                                                                 \n",
            " dense_8 (Dense)             (None, 64)                200768    \n",
            "                                                                 \n",
            " dense_9 (Dense)             (None, 10)                650       \n",
            "                                                                 \n",
            "=================================================================\n",
            "Total params: 220,618\n",
            "Trainable params: 220,426\n",
            "Non-trainable params: 192\n",
            "_________________________________________________________________\n"
          ]
        }
      ],
      "source": [
        "inp = Input(shape=(28, 28, 1))\n",
        "# change 64 to 32 &change kernel_regularizer to 0.001\n",
        "x = layers.Conv2D(32,(3, 3), padding='same', kernel_regularizer=l2(0.001))(inp)\n",
        "# add batch normalizaation layer\n",
        "x = layers.BatchNormalization()(x)\n",
        "x = layers.Activation('relu')(x)\n",
        "x = layers.MaxPool2D()(x)\n",
        "# change to conv 64\n",
        "x = layers.Conv2D(64,(3 ,3), activation='relu', padding='same')(x)\n",
        "# add batch normalizaation layer\n",
        "x = layers.BatchNormalization()(x)\n",
        "x = layers.Activation('relu')(x)\n",
        "x = layers.MaxPool2D()(x)\n",
        "x = layers.Flatten()(x)\n",
        "# add dropout 0.5\n",
        "x= layers.Dropout(0.5)(x)\n",
        "x = layers.Dense(64, activation='relu',kernel_regularizer =l2(0.001))(x)\n",
        "out = layers.Dense(10, activation='softmax')(x)\n",
        "\n",
        "model_cnn = Model(inputs=inp, outputs=out)\n",
        "model_cnn.summary()"
      ]
    },
    {
      "cell_type": "markdown",
      "source": [
        "## Train CNN model"
      ],
      "metadata": {
        "id": "geaFmYwSYHTK"
      }
    },
    {
      "cell_type": "code",
      "execution_count": 38,
      "metadata": {
        "id": "czO2CzaDzz93"
      },
      "outputs": [],
      "source": [
        "from tensorflow.keras import optimizers\n",
        "from  tensorflow.keras.optimizers  import  Adam\n",
        "model_cnn.compile(optimizer=\"adam\", loss='sparse_categorical_crossentropy',metrics=['accuracy'])\n"
      ]
    },
    {
      "cell_type": "code",
      "execution_count": 39,
      "metadata": {
        "colab": {
          "base_uri": "https://localhost:8080/"
        },
        "id": "vCHojI-ANEtt",
        "outputId": "ea9e36b8-1b4f-45f6-a899-a91c429e6a1a"
      },
      "outputs": [
        {
          "output_type": "stream",
          "name": "stdout",
          "text": [
            "Epoch 1/30\n",
            "118/118 [==============================] - 4s 19ms/step - loss: 0.7658 - accuracy: 0.7771 - val_loss: 2.3537 - val_accuracy: 0.6730\n",
            "Epoch 2/30\n",
            "118/118 [==============================] - 2s 16ms/step - loss: 0.4752 - accuracy: 0.8644 - val_loss: 2.0978 - val_accuracy: 0.8096\n",
            "Epoch 3/30\n",
            "118/118 [==============================] - 2s 17ms/step - loss: 0.4088 - accuracy: 0.8833 - val_loss: 1.2632 - val_accuracy: 0.8518\n",
            "Epoch 4/30\n",
            "118/118 [==============================] - 2s 16ms/step - loss: 0.3704 - accuracy: 0.8939 - val_loss: 0.5446 - val_accuracy: 0.8921\n",
            "Epoch 5/30\n",
            "118/118 [==============================] - 2s 16ms/step - loss: 0.3358 - accuracy: 0.9019 - val_loss: 0.3941 - val_accuracy: 0.8809\n",
            "Epoch 6/30\n",
            "118/118 [==============================] - 2s 16ms/step - loss: 0.3169 - accuracy: 0.9057 - val_loss: 0.3428 - val_accuracy: 0.8964\n",
            "Epoch 7/30\n",
            "118/118 [==============================] - 2s 16ms/step - loss: 0.2990 - accuracy: 0.9114 - val_loss: 0.3153 - val_accuracy: 0.9052\n",
            "Epoch 8/30\n",
            "118/118 [==============================] - 2s 16ms/step - loss: 0.2815 - accuracy: 0.9161 - val_loss: 0.3079 - val_accuracy: 0.9088\n",
            "Epoch 9/30\n",
            "118/118 [==============================] - 2s 17ms/step - loss: 0.2754 - accuracy: 0.9180 - val_loss: 0.2918 - val_accuracy: 0.9132\n",
            "Epoch 10/30\n",
            "118/118 [==============================] - 2s 16ms/step - loss: 0.2632 - accuracy: 0.9208 - val_loss: 0.3456 - val_accuracy: 0.8929\n",
            "Epoch 11/30\n",
            "118/118 [==============================] - 2s 16ms/step - loss: 0.2567 - accuracy: 0.9225 - val_loss: 0.3062 - val_accuracy: 0.9048\n",
            "Epoch 12/30\n",
            "118/118 [==============================] - 2s 19ms/step - loss: 0.2540 - accuracy: 0.9246 - val_loss: 0.2897 - val_accuracy: 0.9140\n",
            "Epoch 13/30\n",
            "118/118 [==============================] - 2s 16ms/step - loss: 0.2484 - accuracy: 0.9267 - val_loss: 0.2916 - val_accuracy: 0.9128\n",
            "Epoch 14/30\n",
            "118/118 [==============================] - 2s 16ms/step - loss: 0.2410 - accuracy: 0.9288 - val_loss: 0.2742 - val_accuracy: 0.9209\n",
            "Epoch 15/30\n",
            "118/118 [==============================] - 2s 18ms/step - loss: 0.2408 - accuracy: 0.9294 - val_loss: 0.2914 - val_accuracy: 0.9143\n",
            "Epoch 16/30\n",
            "118/118 [==============================] - 2s 17ms/step - loss: 0.2353 - accuracy: 0.9312 - val_loss: 0.3766 - val_accuracy: 0.8816\n",
            "Epoch 17/30\n",
            "118/118 [==============================] - 2s 16ms/step - loss: 0.2326 - accuracy: 0.9327 - val_loss: 0.2887 - val_accuracy: 0.9123\n",
            "Epoch 18/30\n",
            "118/118 [==============================] - 2s 17ms/step - loss: 0.2302 - accuracy: 0.9334 - val_loss: 0.3120 - val_accuracy: 0.9101\n",
            "Epoch 19/30\n",
            "118/118 [==============================] - 2s 16ms/step - loss: 0.2294 - accuracy: 0.9343 - val_loss: 0.2944 - val_accuracy: 0.9128\n",
            "Epoch 20/30\n",
            "118/118 [==============================] - 2s 16ms/step - loss: 0.2236 - accuracy: 0.9362 - val_loss: 0.2764 - val_accuracy: 0.9225\n",
            "Epoch 21/30\n",
            "118/118 [==============================] - 2s 17ms/step - loss: 0.2217 - accuracy: 0.9371 - val_loss: 0.2834 - val_accuracy: 0.9170\n",
            "Epoch 22/30\n",
            "118/118 [==============================] - 2s 17ms/step - loss: 0.2211 - accuracy: 0.9377 - val_loss: 0.3041 - val_accuracy: 0.9098\n",
            "Epoch 23/30\n",
            "118/118 [==============================] - 2s 16ms/step - loss: 0.2209 - accuracy: 0.9374 - val_loss: 0.2883 - val_accuracy: 0.9173\n",
            "Epoch 24/30\n",
            "118/118 [==============================] - 2s 16ms/step - loss: 0.2193 - accuracy: 0.9387 - val_loss: 0.2988 - val_accuracy: 0.9153\n",
            "Epoch 25/30\n",
            "118/118 [==============================] - 2s 16ms/step - loss: 0.2143 - accuracy: 0.9407 - val_loss: 0.2948 - val_accuracy: 0.9169\n",
            "Epoch 26/30\n",
            "118/118 [==============================] - 2s 16ms/step - loss: 0.2152 - accuracy: 0.9416 - val_loss: 0.2792 - val_accuracy: 0.9228\n",
            "Epoch 27/30\n",
            "118/118 [==============================] - 2s 16ms/step - loss: 0.2144 - accuracy: 0.9414 - val_loss: 0.2844 - val_accuracy: 0.9236\n",
            "Epoch 28/30\n",
            "118/118 [==============================] - 2s 18ms/step - loss: 0.2115 - accuracy: 0.9418 - val_loss: 0.3150 - val_accuracy: 0.9118\n",
            "Epoch 29/30\n",
            "118/118 [==============================] - 2s 16ms/step - loss: 0.2145 - accuracy: 0.9417 - val_loss: 0.3175 - val_accuracy: 0.9088\n",
            "Epoch 30/30\n",
            "118/118 [==============================] - 2s 16ms/step - loss: 0.2122 - accuracy: 0.9429 - val_loss: 0.2835 - val_accuracy: 0.9215\n"
          ]
        }
      ],
      "source": [
        "history2 = model_cnn.fit (train_images, train_labels,\n",
        "                         epochs=30, batch_size=512,\n",
        "                         validation_data=(test_images, test_labels))"
      ]
    },
    {
      "cell_type": "markdown",
      "source": [
        "## Evaluation of CNN model"
      ],
      "metadata": {
        "id": "euT4VsSkYV6U"
      }
    },
    {
      "cell_type": "code",
      "execution_count": 24,
      "metadata": {
        "colab": {
          "base_uri": "https://localhost:8080/",
          "height": 447
        },
        "id": "EUQqvtPHQ_yx",
        "outputId": "a55bf3c1-e016-4100-d22d-2bb82fc0a720"
      },
      "outputs": [
        {
          "output_type": "execute_result",
          "data": {
            "text/plain": [
              "<matplotlib.legend.Legend at 0x7fd9dc3c3820>"
            ]
          },
          "metadata": {},
          "execution_count": 24
        },
        {
          "output_type": "display_data",
          "data": {
            "text/plain": [
              "<Figure size 640x480 with 1 Axes>"
            ],
            "image/png": "[encoded data removed]"
          },
          "metadata": {}
        }
      ],
      "source": [
        "import matplotlib.pyplot as plt\n",
        "\n",
        "plt.plot(history2.history['loss'][1:], label='Train Loss')\n",
        "plt.plot(history2.history['val_loss'][1:], label='Valid Loss')\n",
        "plt.legend()"
      ]
    },
    {
      "cell_type": "code",
      "execution_count": 25,
      "metadata": {
        "colab": {
          "base_uri": "https://localhost:8080/",
          "height": 447
        },
        "id": "AeCe-JZhRTNA",
        "outputId": "131f7cb0-67fb-4729-a8e2-727934df2635"
      },
      "outputs": [
        {
          "output_type": "execute_result",
          "data": {
            "text/plain": [
              "<matplotlib.legend.Legend at 0x7fd95507a6b0>"
            ]
          },
          "metadata": {},
          "execution_count": 25
        },
        {
          "output_type": "display_data",
          "data": {
            "text/plain": [
              "<Figure size 640x480 with 1 Axes>"
            ],
            "image/png": "[encoded data removed]"
          },
          "metadata": {}
        }
      ],
      "source": [
        "plt.plot(history2.history['accuracy'][1:], label='Train accuracy')\n",
        "plt.plot(history2.history['val_accuracy'][1:], label='Valid accuracy')\n",
        "plt.legend()"
      ]
    },
    {
      "cell_type": "code",
      "source": [
        "plt.plot(history2.history['loss'], label='Train Loss')\n",
        "plt.plot(history2.history['val_loss'], label='Valid Loss')\n",
        "plt.legend()"
      ],
      "metadata": {
        "colab": {
          "base_uri": "https://localhost:8080/",
          "height": 447
        },
        "id": "YpcLOL7pPeyW",
        "outputId": "4fddde4c-220b-4d87-838d-55b2377deb2a"
      },
      "execution_count": 31,
      "outputs": [
        {
          "output_type": "execute_result",
          "data": {
            "text/plain": [
              "<matplotlib.legend.Legend at 0x7fd9f16c60b0>"
            ]
          },
          "metadata": {},
          "execution_count": 31
        },
        {
          "output_type": "display_data",
          "data": {
            "text/plain": [
              "<Figure size 640x480 with 1 Axes>"
            ],
            "image/png": "[encoded data removed]"
          },
          "metadata": {}
        }
      ]
    },
    {
      "cell_type": "markdown",
      "source": [
        "## Prediction"
      ],
      "metadata": {
        "id": "WdBenqb4XM1L"
      }
    },
    {
      "cell_type": "code",
      "execution_count": 33,
      "metadata": {
        "id": "kajsQuaQgpnl",
        "colab": {
          "base_uri": "https://localhost:8080/"
        },
        "outputId": "6d538d7a-2e25-43ed-ac1c-31ef0f5e919c"
      },
      "outputs": [
        {
          "output_type": "stream",
          "name": "stdout",
          "text": [
            "313/313 [==============================] - 1s 2ms/step\n"
          ]
        }
      ],
      "source": [
        "pred_cnn = model_cnn.predict(test_images)"
      ]
    },
    {
      "cell_type": "code",
      "source": [
        "fig, axes = plt.subplots(1, 7, figsize=(25,2))\n",
        "for i in range(len(axes)):\n",
        "  axes[i].imshow(test_images[i], cmap='gray')\n",
        "  axes[i].set_axis_off()\n",
        "\n",
        "  title = f'True: {test_labels[i]} | P_mlp: {np.argmax(pred_mlp[i])} | P_cnn: {np.argmax(pred_cnn[i])}'\n",
        "  axes[i].set_title(title)\n",
        ""
      ],
      "metadata": {
        "id": "Ur-I2xquWxZS"
      },
      "execution_count": null,
      "outputs": []
    }
  ],
  "metadata": {
    "accelerator": "GPU",
    "colab": {
      "provenance": [],
      "include_colab_link": true
    },
    "kernelspec": {
      "display_name": "Python 3",
      "name": "python3"
    },
    "language_info": {
      "name": "python"
    }
  },
  "nbformat": 4,
  "nbformat_minor": 0
}