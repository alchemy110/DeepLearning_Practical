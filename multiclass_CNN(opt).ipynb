{
  "cells": [
    {
      "cell_type": "markdown",
      "metadata": {
        "id": "view-in-github",
        "colab_type": "text"
      },
      "source": [
        "<a href=\"https://colab.research.google.com/github/alchemy110/DeepLearning_Practical/blob/main/multiclass_CNN(opt).ipynb\" target=\"_parent\"><img src=\"https://colab.research.google.com/assets/colab-badge.svg\" alt=\"Open In Colab\"/></a>"
      ]
    },
    {
      "cell_type": "markdown",
      "source": [
        "#CNN in FashionMNIST dataset(opt)"
      ],
      "metadata": {
        "id": "5xZf0CIiXWoa"
      }
    },
    {
      "cell_type": "code",
      "execution_count": 1,
      "metadata": {
        "id": "wPCUfCTzKedw"
      },
      "outputs": [],
      "source": [
        "from tensorflow import keras\n",
        "from tensorflow.keras.datasets import fashion_mnist\n",
        "from tensorflow.keras import layers, Model\n",
        "from tensorflow.keras import Input\n",
        "from tensorflow.keras.utils  import to_categorical\n",
        "import numpy as np\n",
        "from keras.layers import Dropout\n",
        "from keras.optimizers import Adam\n",
        "from tensorflow.keras.layers import Dropout\n",
        "from tensorflow.keras.regularizers import l2"
      ]
    },
    {
      "cell_type": "markdown",
      "source": [
        "## Data Preparation"
      ],
      "metadata": {
        "id": "DcjYopzPXmo0"
      }
    },
    {
      "cell_type": "code",
      "execution_count": 4,
      "metadata": {
        "id": "4pYbhx8TLZYz"
      },
      "outputs": [],
      "source": [
        "%%capture\n",
        "(train_images, train_labels), (test_images, test_labels) = fashion_mnist.load_data()"
      ]
    },
    {
      "cell_type": "code",
      "execution_count": 5,
      "metadata": {
        "colab": {
          "base_uri": "https://localhost:8080/"
        },
        "id": "FLunF5_HHivV",
        "outputId": "1ee1661f-df33-439e-9946-852c4f357ba6"
      },
      "outputs": [
        {
          "output_type": "execute_result",
          "data": {
            "text/plain": [
              "(60000,)"
            ]
          },
          "metadata": {},
          "execution_count": 5
        }
      ],
      "source": [
        "train_labels.shape"
      ]
    },
    {
      "cell_type": "code",
      "execution_count": 6,
      "metadata": {
        "colab": {
          "base_uri": "https://localhost:8080/"
        },
        "id": "4FF0oBw6NrdB",
        "outputId": "78ccc50c-629f-4a8f-b460-33d1cf934e25"
      },
      "outputs": [
        {
          "output_type": "execute_result",
          "data": {
            "text/plain": [
              "(60000, 28, 28)"
            ]
          },
          "metadata": {},
          "execution_count": 6
        }
      ],
      "source": [
        "train_images.shape"
      ]
    },
    {
      "cell_type": "code",
      "execution_count": 7,
      "metadata": {
        "id": "TzBw72HlLuSr"
      },
      "outputs": [],
      "source": [
        "train_images = train_images.reshape(60000, 28, 28)\n",
        "train_images = train_images.astype(\"float32\") / 255.0\n",
        "test_images = test_images.reshape(10000, 28, 28)\n",
        "test_images = test_images.astype(\"float32\") / 255.0"
      ]
    },
    {
      "cell_type": "code",
      "execution_count": 8,
      "metadata": {
        "colab": {
          "base_uri": "https://localhost:8080/"
        },
        "id": "BGWGJzSYLEpn",
        "outputId": "85d2eae9-6b34-47c1-87a9-459a7fc0fe26"
      },
      "outputs": [
        {
          "output_type": "execute_result",
          "data": {
            "text/plain": [
              "(60000, 28, 28)"
            ]
          },
          "metadata": {},
          "execution_count": 8
        }
      ],
      "source": [
        "train_images.shape"
      ]
    },
    {
      "cell_type": "code",
      "execution_count": 9,
      "metadata": {
        "colab": {
          "base_uri": "https://localhost:8080/"
        },
        "id": "ZYIRzzujSgrA",
        "outputId": "8e922535-874b-45aa-cac6-c7e358127a17"
      },
      "outputs": [
        {
          "output_type": "execute_result",
          "data": {
            "text/plain": [
              "(60000,)"
            ]
          },
          "metadata": {},
          "execution_count": 9
        }
      ],
      "source": [
        "train_labels.shape"
      ]
    },
    {
      "cell_type": "code",
      "execution_count": 10,
      "metadata": {
        "colab": {
          "base_uri": "https://localhost:8080/"
        },
        "id": "4p8i_JK5Spl_",
        "outputId": "088eaf3a-c5c2-445f-9d19-d2e73531b932"
      },
      "outputs": [
        {
          "output_type": "execute_result",
          "data": {
            "text/plain": [
              "(10000,)"
            ]
          },
          "metadata": {},
          "execution_count": 10
        }
      ],
      "source": [
        "test_labels.shape"
      ]
    },
    {
      "cell_type": "markdown",
      "source": [
        "## Model Design"
      ],
      "metadata": {
        "id": "lQsWDlT6X10w"
      }
    },
    {
      "cell_type": "code",
      "execution_count": 14,
      "metadata": {
        "colab": {
          "base_uri": "https://localhost:8080/"
        },
        "id": "hEzck6Z3DlK0",
        "outputId": "09bb5c1c-8394-418b-ef2f-dd9012608071"
      },
      "outputs": [
        {
          "output_type": "stream",
          "name": "stdout",
          "text": [
            "Model: \"model_3\"\n",
            "_________________________________________________________________\n",
            " Layer (type)                Output Shape              Param #   \n",
            "=================================================================\n",
            " input_4 (InputLayer)        [(None, 28, 28, 1)]       0         \n",
            "                                                                 \n",
            " conv2d_6 (Conv2D)           (None, 28, 28, 32)        320       \n",
            "                                                                 \n",
            " batch_normalization_6 (Batc  (None, 28, 28, 32)       128       \n",
            " hNormalization)                                                 \n",
            "                                                                 \n",
            " activation_6 (Activation)   (None, 28, 28, 32)        0         \n",
            "                                                                 \n",
            " max_pooling2d_6 (MaxPooling  (None, 14, 14, 32)       0         \n",
            " 2D)                                                             \n",
            "                                                                 \n",
            " conv2d_7 (Conv2D)           (None, 14, 14, 64)        18496     \n",
            "                                                                 \n",
            " batch_normalization_7 (Batc  (None, 14, 14, 64)       256       \n",
            " hNormalization)                                                 \n",
            "                                                                 \n",
            " activation_7 (Activation)   (None, 14, 14, 64)        0         \n",
            "                                                                 \n",
            " max_pooling2d_7 (MaxPooling  (None, 7, 7, 64)         0         \n",
            " 2D)                                                             \n",
            "                                                                 \n",
            " flatten_3 (Flatten)         (None, 3136)              0         \n",
            "                                                                 \n",
            " dropout_3 (Dropout)         (None, 3136)              0         \n",
            "                                                                 \n",
            " dense_6 (Dense)             (None, 64)                200768    \n",
            "                                                                 \n",
            " dense_7 (Dense)             (None, 10)                650       \n",
            "                                                                 \n",
            "=================================================================\n",
            "Total params: 220,618\n",
            "Trainable params: 220,426\n",
            "Non-trainable params: 192\n",
            "_________________________________________________________________\n"
          ]
        }
      ],
      "source": [
        "inp = Input(shape=(28, 28, 1))\n",
        "# change 64 to 32 &change kernel_regularizer to 0.001\n",
        "x = layers.Conv2D(32,(3, 3), padding='same')(inp)\n",
        "# add batch normalizaation layer\n",
        "x = layers.BatchNormalization()(x)\n",
        "x = layers.Activation('relu')(x)\n",
        "x = layers.MaxPool2D()(x)\n",
        "# change to conv 64\n",
        "x = layers.Conv2D(64,(3 ,3), activation='relu', padding='same')(x)\n",
        "# add batch normalizaation layer\n",
        "x = layers.BatchNormalization()(x)\n",
        "x = layers.Activation('relu')(x)\n",
        "x = layers.MaxPool2D()(x)\n",
        "x = layers.Flatten()(x)\n",
        "# add dropout 0.5\n",
        "x= layers.Dropout(0.4)(x)\n",
        "x = layers.Dense(64, activation='relu',kernel_regularizer =l2(0.002))(x)\n",
        "out = layers.Dense(10, activation='softmax')(x)\n",
        "\n",
        "model_cnn = Model(inputs=inp, outputs=out)\n",
        "model_cnn.summary()"
      ]
    },
    {
      "cell_type": "markdown",
      "source": [
        "## Train CNN model"
      ],
      "metadata": {
        "id": "geaFmYwSYHTK"
      }
    },
    {
      "cell_type": "code",
      "execution_count": 15,
      "metadata": {
        "id": "czO2CzaDzz93"
      },
      "outputs": [],
      "source": [
        "from tensorflow.keras import optimizers\n",
        "from  tensorflow.keras.optimizers  import  Adam\n",
        "model_cnn.compile(optimizer=\"adam\", loss='sparse_categorical_crossentropy',metrics=['accuracy'])\n"
      ]
    },
    {
      "cell_type": "code",
      "execution_count": 16,
      "metadata": {
        "colab": {
          "base_uri": "https://localhost:8080/"
        },
        "id": "vCHojI-ANEtt",
        "outputId": "897b1bbc-6c7b-4e1e-fc72-ed938ddb89a5"
      },
      "outputs": [
        {
          "output_type": "stream",
          "name": "stdout",
          "text": [
            "Epoch 1/30\n",
            "118/118 [==============================] - 14s 20ms/step - loss: 0.8168 - accuracy: 0.7910 - val_loss: 2.4039 - val_accuracy: 0.7243\n",
            "Epoch 2/30\n",
            "118/118 [==============================] - 2s 16ms/step - loss: 0.5149 - accuracy: 0.8721 - val_loss: 2.0833 - val_accuracy: 0.8116\n",
            "Epoch 3/30\n",
            "118/118 [==============================] - 2s 16ms/step - loss: 0.4256 - accuracy: 0.8896 - val_loss: 1.2544 - val_accuracy: 0.8329\n",
            "Epoch 4/30\n",
            "118/118 [==============================] - 2s 17ms/step - loss: 0.3695 - accuracy: 0.9023 - val_loss: 0.5553 - val_accuracy: 0.8840\n",
            "Epoch 5/30\n",
            "118/118 [==============================] - 2s 18ms/step - loss: 0.3321 - accuracy: 0.9092 - val_loss: 0.4296 - val_accuracy: 0.8646\n",
            "Epoch 6/30\n",
            "118/118 [==============================] - 2s 16ms/step - loss: 0.3064 - accuracy: 0.9134 - val_loss: 0.3491 - val_accuracy: 0.8981\n",
            "Epoch 7/30\n",
            "118/118 [==============================] - 2s 16ms/step - loss: 0.2887 - accuracy: 0.9187 - val_loss: 0.3065 - val_accuracy: 0.9115\n",
            "Epoch 8/30\n",
            "118/118 [==============================] - 2s 16ms/step - loss: 0.2725 - accuracy: 0.9235 - val_loss: 0.3311 - val_accuracy: 0.9020\n",
            "Epoch 9/30\n",
            "118/118 [==============================] - 2s 16ms/step - loss: 0.2606 - accuracy: 0.9260 - val_loss: 0.2960 - val_accuracy: 0.9136\n",
            "Epoch 10/30\n",
            "118/118 [==============================] - 2s 16ms/step - loss: 0.2529 - accuracy: 0.9280 - val_loss: 0.2960 - val_accuracy: 0.9139\n",
            "Epoch 11/30\n",
            "118/118 [==============================] - 2s 18ms/step - loss: 0.2499 - accuracy: 0.9296 - val_loss: 0.2844 - val_accuracy: 0.9159\n",
            "Epoch 12/30\n",
            "118/118 [==============================] - 2s 17ms/step - loss: 0.2424 - accuracy: 0.9307 - val_loss: 0.2848 - val_accuracy: 0.9185\n",
            "Epoch 13/30\n",
            "118/118 [==============================] - 2s 16ms/step - loss: 0.2396 - accuracy: 0.9321 - val_loss: 0.2915 - val_accuracy: 0.9135\n",
            "Epoch 14/30\n",
            "118/118 [==============================] - 2s 16ms/step - loss: 0.2314 - accuracy: 0.9356 - val_loss: 0.3076 - val_accuracy: 0.9105\n",
            "Epoch 15/30\n",
            "118/118 [==============================] - 2s 16ms/step - loss: 0.2315 - accuracy: 0.9359 - val_loss: 0.2932 - val_accuracy: 0.9146\n",
            "Epoch 16/30\n",
            "118/118 [==============================] - 2s 16ms/step - loss: 0.2297 - accuracy: 0.9357 - val_loss: 0.2998 - val_accuracy: 0.9134\n",
            "Epoch 17/30\n",
            "118/118 [==============================] - 2s 17ms/step - loss: 0.2238 - accuracy: 0.9384 - val_loss: 0.3241 - val_accuracy: 0.9013\n",
            "Epoch 18/30\n",
            "118/118 [==============================] - 2s 18ms/step - loss: 0.2236 - accuracy: 0.9382 - val_loss: 0.3142 - val_accuracy: 0.9084\n",
            "Epoch 19/30\n",
            "118/118 [==============================] - 2s 16ms/step - loss: 0.2159 - accuracy: 0.9417 - val_loss: 0.2898 - val_accuracy: 0.9181\n",
            "Epoch 20/30\n",
            "118/118 [==============================] - 2s 16ms/step - loss: 0.2152 - accuracy: 0.9421 - val_loss: 0.3121 - val_accuracy: 0.9096\n",
            "Epoch 21/30\n",
            "118/118 [==============================] - 2s 16ms/step - loss: 0.2157 - accuracy: 0.9421 - val_loss: 0.3908 - val_accuracy: 0.8819\n",
            "Epoch 22/30\n",
            "118/118 [==============================] - 2s 16ms/step - loss: 0.2143 - accuracy: 0.9428 - val_loss: 0.2914 - val_accuracy: 0.9180\n",
            "Epoch 23/30\n",
            "118/118 [==============================] - 2s 17ms/step - loss: 0.2119 - accuracy: 0.9446 - val_loss: 0.2900 - val_accuracy: 0.9205\n",
            "Epoch 24/30\n",
            "118/118 [==============================] - 2s 18ms/step - loss: 0.2100 - accuracy: 0.9450 - val_loss: 0.2979 - val_accuracy: 0.9187\n",
            "Epoch 25/30\n",
            "118/118 [==============================] - 2s 16ms/step - loss: 0.2100 - accuracy: 0.9447 - val_loss: 0.3092 - val_accuracy: 0.9156\n",
            "Epoch 26/30\n",
            "118/118 [==============================] - 2s 16ms/step - loss: 0.2114 - accuracy: 0.9442 - val_loss: 0.3076 - val_accuracy: 0.9187\n",
            "Epoch 27/30\n",
            "118/118 [==============================] - 2s 16ms/step - loss: 0.2071 - accuracy: 0.9462 - val_loss: 0.3206 - val_accuracy: 0.9078\n",
            "Epoch 28/30\n",
            "118/118 [==============================] - 2s 16ms/step - loss: 0.2072 - accuracy: 0.9461 - val_loss: 0.2885 - val_accuracy: 0.9209\n",
            "Epoch 29/30\n",
            "118/118 [==============================] - 2s 16ms/step - loss: 0.2075 - accuracy: 0.9458 - val_loss: 0.2845 - val_accuracy: 0.9250\n",
            "Epoch 30/30\n",
            "118/118 [==============================] - 2s 18ms/step - loss: 0.2031 - accuracy: 0.9477 - val_loss: 0.3016 - val_accuracy: 0.9211\n"
          ]
        }
      ],
      "source": [
        "history = model_cnn.fit (train_images, train_labels,\n",
        "                         epochs=30, batch_size=512,\n",
        "                         validation_data=(test_images, test_labels))"
      ]
    },
    {
      "cell_type": "markdown",
      "source": [
        "## Evaluation of CNN model"
      ],
      "metadata": {
        "id": "euT4VsSkYV6U"
      }
    },
    {
      "cell_type": "code",
      "execution_count": 17,
      "metadata": {
        "colab": {
          "base_uri": "https://localhost:8080/",
          "height": 447
        },
        "id": "EUQqvtPHQ_yx",
        "outputId": "6504f6ce-b3d0-4e70-9ccb-fa2650f3c07f"
      },
      "outputs": [
        {
          "output_type": "execute_result",
          "data": {
            "text/plain": [
              "<matplotlib.legend.Legend at 0x7fcde00a6ec0>"
            ]
          },
          "metadata": {},
          "execution_count": 17
        },
        {
          "output_type": "display_data",
          "data": {
            "text/plain": [
              "<Figure size 640x480 with 1 Axes>"
            ],
            "image/png": "[encoded data removed]"
          },
          "metadata": {}
        }
      ],
      "source": [
        "import matplotlib.pyplot as plt\n",
        "\n",
        "plt.plot(history.history['loss'][1:], label='Train Loss')\n",
        "plt.plot(history.history['val_loss'][1:], label='Valid Loss')\n",
        "plt.legend()"
      ]
    },
    {
      "cell_type": "code",
      "execution_count": 18,
      "metadata": {
        "colab": {
          "base_uri": "https://localhost:8080/",
          "height": 447
        },
        "id": "AeCe-JZhRTNA",
        "outputId": "c08287c0-028a-437b-ab7d-7b7eb00de1cc"
      },
      "outputs": [
        {
          "output_type": "execute_result",
          "data": {
            "text/plain": [
              "<matplotlib.legend.Legend at 0x7fcde0e72950>"
            ]
          },
          "metadata": {},
          "execution_count": 18
        },
        {
          "output_type": "display_data",
          "data": {
            "text/plain": [
              "<Figure size 640x480 with 1 Axes>"
            ],
            "image/png": "[encoded data removed]"
          },
          "metadata": {}
        }
      ],
      "source": [
        "plt.plot(history.history['accuracy'][1:], label='Train accuracy')\n",
        "plt.plot(history.history['val_accuracy'][1:], label='Valid accuracy')\n",
        "plt.legend()"
      ]
    },
    {
      "cell_type": "markdown",
      "source": [
        "## Prediction"
      ],
      "metadata": {
        "id": "WdBenqb4XM1L"
      }
    },
    {
      "cell_type": "code",
      "source": [
        "model_cnn.evaluate(test_images, test_labels)\n",
        "\n"
      ],
      "metadata": {
        "colab": {
          "base_uri": "https://localhost:8080/"
        },
        "id": "YMGP5O1KRYWe",
        "outputId": "190df188-068f-459b-ddf2-fa9e1facf1de"
      },
      "execution_count": 21,
      "outputs": [
        {
          "output_type": "stream",
          "name": "stdout",
          "text": [
            "313/313 [==============================] - 1s 3ms/step - loss: 0.3016 - accuracy: 0.9211\n"
          ]
        },
        {
          "output_type": "execute_result",
          "data": {
            "text/plain": [
              "[0.30164027214050293, 0.9211000204086304]"
            ]
          },
          "metadata": {},
          "execution_count": 21
        }
      ]
    },
    {
      "cell_type": "markdown",
      "source": [
        "# ostad nesbat be model shoma az lahaz loss , accuracy 4.5% behbood peda kard"
      ],
      "metadata": {
        "id": "BZG0fnymSemh"
      }
    },
    {
      "cell_type": "code",
      "execution_count": 19,
      "metadata": {
        "id": "kajsQuaQgpnl",
        "colab": {
          "base_uri": "https://localhost:8080/"
        },
        "outputId": "d03f5c52-0cce-431d-d9f1-cc10b94a5084"
      },
      "outputs": [
        {
          "output_type": "stream",
          "name": "stdout",
          "text": [
            "313/313 [==============================] - 1s 2ms/step\n"
          ]
        }
      ],
      "source": [
        "pred_cnn = model_cnn.predict(test_images)"
      ]
    },
    {
      "cell_type": "code",
      "source": [
        "fig, axes = plt.subplots(1, 7, figsize=(25,2))\n",
        "for i in range(len(axes)):\n",
        "  axes[i].imshow(test_images[i], cmap='gray')\n",
        "  axes[i].set_axis_off()\n",
        "\n",
        "  title = f'True: {test_labels[i]} | P_cnn: {np.argmax(pred_cnn[i])}'\n",
        "  axes[i].set_title(title)\n"
      ],
      "metadata": {
        "id": "Ur-I2xquWxZS",
        "outputId": "e2e0b550-7348-43d8-d9bc-07baa784a9fc",
        "colab": {
          "base_uri": "https://localhost:8080/",
          "height": 147
        }
      },
      "execution_count": null,
      "outputs": [
        {
          "output_type": "display_data",
          "data": {
            "text/plain": [
              "<Figure size 2500x200 with 7 Axes>"
            ],
            "image/png": "[encoded data removed]"
          },
          "metadata": {}
        }
      ]
    }
  ],
  "metadata": {
    "accelerator": "GPU",
    "colab": {
      "provenance": [],
      "include_colab_link": true
    },
    "kernelspec": {
      "display_name": "Python 3",
      "name": "python3"
    },
    "language_info": {
      "name": "python"
    }
  },
  "nbformat": 4,
  "nbformat_minor": 0
}