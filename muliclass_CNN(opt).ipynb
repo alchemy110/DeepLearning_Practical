{
  "cells": [
    {
      "cell_type": "markdown",
      "metadata": {
        "id": "view-in-github",
        "colab_type": "text"
      },
      "source": [
        "<a href=\"https://colab.research.google.com/github/alchemy110/DeepLearning_Practical/blob/main/muliclass_CNN(opt).ipynb\" target=\"_parent\"><img src=\"https://colab.research.google.com/assets/colab-badge.svg\" alt=\"Open In Colab\"/></a>"
      ]
    },
    {
      "cell_type": "markdown",
      "source": [
        "#CNN in FashionMNIST dataset(opt)"
      ],
      "metadata": {
        "id": "5xZf0CIiXWoa"
      }
    },
    {
      "cell_type": "code",
      "execution_count": 1,
      "metadata": {
        "id": "wPCUfCTzKedw"
      },
      "outputs": [],
      "source": [
        "from tensorflow import keras\n",
        "from tensorflow.keras.datasets import fashion_mnist\n",
        "from tensorflow.keras import layers, Model\n",
        "from tensorflow.keras import Input\n",
        "from tensorflow.keras.utils  import to_categorical\n",
        "import numpy as np\n",
        "from keras.layers import Dropout\n",
        "from keras.optimizers import Adam\n",
        "from tensorflow.keras.layers import Dropout\n",
        "from tensorflow.keras.regularizers import l2"
      ]
    },
    {
      "cell_type": "markdown",
      "source": [
        "## Data Preparation"
      ],
      "metadata": {
        "id": "DcjYopzPXmo0"
      }
    },
    {
      "cell_type": "code",
      "execution_count": 2,
      "metadata": {
        "id": "4pYbhx8TLZYz"
      },
      "outputs": [],
      "source": [
        "%%capture\n",
        "(train_images, train_labels), (test_images, test_labels) = fashion_mnist.load_data()"
      ]
    },
    {
      "cell_type": "code",
      "execution_count": null,
      "metadata": {
        "colab": {
          "base_uri": "https://localhost:8080/"
        },
        "id": "FLunF5_HHivV",
        "outputId": "f0670efd-3d93-4a3f-b7c5-6310ab088126"
      },
      "outputs": [
        {
          "data": {
            "text/plain": [
              "(60000, 10)"
            ]
          },
          "execution_count": 58,
          "metadata": {},
          "output_type": "execute_result"
        }
      ],
      "source": [
        "train_labels.shape"
      ]
    },
    {
      "cell_type": "code",
      "execution_count": null,
      "metadata": {
        "colab": {
          "base_uri": "https://localhost:8080/"
        },
        "id": "4FF0oBw6NrdB",
        "outputId": "a262808b-19ac-4d07-b030-df432c03acb2"
      },
      "outputs": [
        {
          "data": {
            "text/plain": [
              "(60000, 28, 28)"
            ]
          },
          "execution_count": 64,
          "metadata": {},
          "output_type": "execute_result"
        }
      ],
      "source": [
        "train_images.shape"
      ]
    },
    {
      "cell_type": "code",
      "execution_count": 3,
      "metadata": {
        "id": "TzBw72HlLuSr"
      },
      "outputs": [],
      "source": [
        "train_images = train_images.reshape(60000, 28, 28)\n",
        "train_images = train_images.astype(\"float32\") / 255.0\n",
        "test_images = test_images.reshape(10000, 28, 28)\n",
        "test_images = test_images.astype(\"float32\") / 255.0"
      ]
    },
    {
      "cell_type": "code",
      "execution_count": null,
      "metadata": {
        "colab": {
          "base_uri": "https://localhost:8080/"
        },
        "id": "BGWGJzSYLEpn",
        "outputId": "4f18c889-8faa-45f9-bb40-3ae6528a365a"
      },
      "outputs": [
        {
          "data": {
            "text/plain": [
              "(60000, 28, 28)"
            ]
          },
          "execution_count": 60,
          "metadata": {},
          "output_type": "execute_result"
        }
      ],
      "source": [
        "train_images.shape"
      ]
    },
    {
      "cell_type": "code",
      "execution_count": null,
      "metadata": {
        "colab": {
          "base_uri": "https://localhost:8080/"
        },
        "id": "ZYIRzzujSgrA",
        "outputId": "59a3d527-4ab5-40af-85b9-7aec960776b0"
      },
      "outputs": [
        {
          "data": {
            "text/plain": [
              "(60000, 10)"
            ]
          },
          "execution_count": 80,
          "metadata": {},
          "output_type": "execute_result"
        }
      ],
      "source": [
        "train_labels.shape"
      ]
    },
    {
      "cell_type": "code",
      "execution_count": null,
      "metadata": {
        "colab": {
          "base_uri": "https://localhost:8080/"
        },
        "id": "4p8i_JK5Spl_",
        "outputId": "af3a1f4a-9240-4775-cc44-b0d8ab43d40e"
      },
      "outputs": [
        {
          "data": {
            "text/plain": [
              "(10000, 10)"
            ]
          },
          "execution_count": 81,
          "metadata": {},
          "output_type": "execute_result"
        }
      ],
      "source": [
        "test_labels.shape"
      ]
    },
    {
      "cell_type": "markdown",
      "source": [
        "## Model Design"
      ],
      "metadata": {
        "id": "lQsWDlT6X10w"
      }
    },
    {
      "cell_type": "code",
      "execution_count": 4,
      "metadata": {
        "colab": {
          "base_uri": "https://localhost:8080/"
        },
        "id": "hEzck6Z3DlK0",
        "outputId": "ce770057-54a7-40cf-fc4f-5799b843007a"
      },
      "outputs": [
        {
          "output_type": "stream",
          "name": "stdout",
          "text": [
            "Model: \"model\"\n",
            "_________________________________________________________________\n",
            " Layer (type)                Output Shape              Param #   \n",
            "=================================================================\n",
            " input_1 (InputLayer)        [(None, 28, 28, 1)]       0         \n",
            "                                                                 \n",
            " conv2d (Conv2D)             (None, 28, 28, 32)        320       \n",
            "                                                                 \n",
            " batch_normalization (BatchN  (None, 28, 28, 32)       128       \n",
            " ormalization)                                                   \n",
            "                                                                 \n",
            " activation (Activation)     (None, 28, 28, 32)        0         \n",
            "                                                                 \n",
            " max_pooling2d (MaxPooling2D  (None, 14, 14, 32)       0         \n",
            " )                                                               \n",
            "                                                                 \n",
            " conv2d_1 (Conv2D)           (None, 14, 14, 64)        18496     \n",
            "                                                                 \n",
            " batch_normalization_1 (Batc  (None, 14, 14, 64)       256       \n",
            " hNormalization)                                                 \n",
            "                                                                 \n",
            " activation_1 (Activation)   (None, 14, 14, 64)        0         \n",
            "                                                                 \n",
            " max_pooling2d_1 (MaxPooling  (None, 7, 7, 64)         0         \n",
            " 2D)                                                             \n",
            "                                                                 \n",
            " flatten (Flatten)           (None, 3136)              0         \n",
            "                                                                 \n",
            " dropout (Dropout)           (None, 3136)              0         \n",
            "                                                                 \n",
            " dense (Dense)               (None, 64)                200768    \n",
            "                                                                 \n",
            " dense_1 (Dense)             (None, 10)                650       \n",
            "                                                                 \n",
            "=================================================================\n",
            "Total params: 220,618\n",
            "Trainable params: 220,426\n",
            "Non-trainable params: 192\n",
            "_________________________________________________________________\n"
          ]
        }
      ],
      "source": [
        "inp = Input(shape=(28, 28, 1))\n",
        "# change 64 to 32 &change kernel_regularizer to 0.001\n",
        "x = layers.Conv2D(32,(3, 3), padding='same', kernel_regularizer=l2(0.001))(inp)\n",
        "# add batch normalizaation layer\n",
        "x = layers.BatchNormalization()(x)\n",
        "x = layers.Activation('relu')(x)\n",
        "x = layers.MaxPool2D()(x)\n",
        "# change to conv 64\n",
        "x = layers.Conv2D(64,(3 ,3), activation='relu', padding='same')(x)\n",
        "# add batch normalizaation layer\n",
        "x = layers.BatchNormalization()(x)\n",
        "x = layers.Activation('relu')(x)\n",
        "x = layers.MaxPool2D()(x)\n",
        "x = layers.Flatten()(x)\n",
        "# add dropout 0.5\n",
        "x= layers.Dropout(0.5)(x)\n",
        "x = layers.Dense(64, activation='relu',kernel_regularizer =l2(0.001))(x)\n",
        "out = layers.Dense(10, activation='softmax')(x)\n",
        "\n",
        "model_cnn = Model(inputs=inp, outputs=out)\n",
        "model_cnn.summary()"
      ]
    },
    {
      "cell_type": "markdown",
      "source": [
        "## Train CNN model"
      ],
      "metadata": {
        "id": "geaFmYwSYHTK"
      }
    },
    {
      "cell_type": "code",
      "execution_count": 5,
      "metadata": {
        "id": "czO2CzaDzz93"
      },
      "outputs": [],
      "source": [
        "from tensorflow.keras import optimizers\n",
        "from  tensorflow.keras.optimizers  import  Adam\n",
        "model_cnn.compile(optimizer=\"adam\", loss='sparse_categorical_crossentropy',metrics=['accuracy'])\n"
      ]
    },
    {
      "cell_type": "code",
      "execution_count": 6,
      "metadata": {
        "colab": {
          "base_uri": "https://localhost:8080/"
        },
        "id": "vCHojI-ANEtt",
        "outputId": "6bd988d0-e412-49ed-e57a-f4daae8931c7"
      },
      "outputs": [
        {
          "output_type": "stream",
          "name": "stdout",
          "text": [
            "Epoch 1/30\n",
            "118/118 [==============================] - 15s 20ms/step - loss: 0.7770 - accuracy: 0.7806 - val_loss: 2.3219 - val_accuracy: 0.6509\n",
            "Epoch 2/30\n",
            "118/118 [==============================] - 2s 16ms/step - loss: 0.4728 - accuracy: 0.8657 - val_loss: 1.9814 - val_accuracy: 0.7460\n",
            "Epoch 3/30\n",
            "118/118 [==============================] - 2s 16ms/step - loss: 0.4063 - accuracy: 0.8850 - val_loss: 1.1531 - val_accuracy: 0.8169\n",
            "Epoch 4/30\n",
            "118/118 [==============================] - 2s 17ms/step - loss: 0.3679 - accuracy: 0.8942 - val_loss: 0.5938 - val_accuracy: 0.8866\n",
            "Epoch 5/30\n",
            "118/118 [==============================] - 2s 17ms/step - loss: 0.3440 - accuracy: 0.9000 - val_loss: 0.4681 - val_accuracy: 0.8422\n",
            "Epoch 6/30\n",
            "118/118 [==============================] - 2s 16ms/step - loss: 0.3199 - accuracy: 0.9057 - val_loss: 0.3331 - val_accuracy: 0.9021\n",
            "Epoch 7/30\n",
            "118/118 [==============================] - 2s 16ms/step - loss: 0.3036 - accuracy: 0.9098 - val_loss: 0.3679 - val_accuracy: 0.8856\n",
            "Epoch 8/30\n",
            "118/118 [==============================] - 2s 16ms/step - loss: 0.2870 - accuracy: 0.9141 - val_loss: 0.3350 - val_accuracy: 0.8983\n",
            "Epoch 9/30\n",
            "118/118 [==============================] - 2s 16ms/step - loss: 0.2779 - accuracy: 0.9157 - val_loss: 0.2893 - val_accuracy: 0.9155\n",
            "Epoch 10/30\n",
            "118/118 [==============================] - 2s 16ms/step - loss: 0.2673 - accuracy: 0.9180 - val_loss: 0.2889 - val_accuracy: 0.9130\n",
            "Epoch 11/30\n",
            "118/118 [==============================] - 2s 18ms/step - loss: 0.2600 - accuracy: 0.9224 - val_loss: 0.3685 - val_accuracy: 0.8882\n",
            "Epoch 12/30\n",
            "118/118 [==============================] - 2s 17ms/step - loss: 0.2539 - accuracy: 0.9230 - val_loss: 0.2976 - val_accuracy: 0.9092\n",
            "Epoch 13/30\n",
            "118/118 [==============================] - 2s 16ms/step - loss: 0.2482 - accuracy: 0.9257 - val_loss: 0.3067 - val_accuracy: 0.9076\n",
            "Epoch 14/30\n",
            "118/118 [==============================] - 2s 16ms/step - loss: 0.2474 - accuracy: 0.9256 - val_loss: 0.2926 - val_accuracy: 0.9120\n",
            "Epoch 15/30\n",
            "118/118 [==============================] - 2s 16ms/step - loss: 0.2446 - accuracy: 0.9268 - val_loss: 0.3038 - val_accuracy: 0.9058\n",
            "Epoch 16/30\n",
            "118/118 [==============================] - 2s 16ms/step - loss: 0.2410 - accuracy: 0.9282 - val_loss: 0.3284 - val_accuracy: 0.8987\n",
            "Epoch 17/30\n",
            "118/118 [==============================] - 2s 18ms/step - loss: 0.2358 - accuracy: 0.9301 - val_loss: 0.2799 - val_accuracy: 0.9165\n",
            "Epoch 18/30\n",
            "118/118 [==============================] - 2s 17ms/step - loss: 0.2354 - accuracy: 0.9310 - val_loss: 0.2764 - val_accuracy: 0.9193\n",
            "Epoch 19/30\n",
            "118/118 [==============================] - 2s 17ms/step - loss: 0.2334 - accuracy: 0.9319 - val_loss: 0.2970 - val_accuracy: 0.9110\n",
            "Epoch 20/30\n",
            "118/118 [==============================] - 2s 18ms/step - loss: 0.2288 - accuracy: 0.9339 - val_loss: 0.2799 - val_accuracy: 0.9158\n",
            "Epoch 21/30\n",
            "118/118 [==============================] - 2s 16ms/step - loss: 0.2244 - accuracy: 0.9353 - val_loss: 0.3735 - val_accuracy: 0.8863\n",
            "Epoch 22/30\n",
            "118/118 [==============================] - 2s 16ms/step - loss: 0.2244 - accuracy: 0.9362 - val_loss: 0.3089 - val_accuracy: 0.9034\n",
            "Epoch 23/30\n",
            "118/118 [==============================] - 2s 17ms/step - loss: 0.2247 - accuracy: 0.9356 - val_loss: 0.2961 - val_accuracy: 0.9152\n",
            "Epoch 24/30\n",
            "118/118 [==============================] - 2s 17ms/step - loss: 0.2231 - accuracy: 0.9358 - val_loss: 0.2877 - val_accuracy: 0.9143\n",
            "Epoch 25/30\n",
            "118/118 [==============================] - 2s 16ms/step - loss: 0.2203 - accuracy: 0.9371 - val_loss: 0.2995 - val_accuracy: 0.9115\n",
            "Epoch 26/30\n",
            "118/118 [==============================] - 2s 16ms/step - loss: 0.2195 - accuracy: 0.9369 - val_loss: 0.2774 - val_accuracy: 0.9188\n",
            "Epoch 27/30\n",
            "118/118 [==============================] - 2s 16ms/step - loss: 0.2194 - accuracy: 0.9377 - val_loss: 0.2982 - val_accuracy: 0.9151\n",
            "Epoch 28/30\n",
            "118/118 [==============================] - 2s 16ms/step - loss: 0.2203 - accuracy: 0.9379 - val_loss: 0.2737 - val_accuracy: 0.9187\n",
            "Epoch 29/30\n",
            "118/118 [==============================] - 2s 16ms/step - loss: 0.2152 - accuracy: 0.9398 - val_loss: 0.2840 - val_accuracy: 0.9177\n",
            "Epoch 30/30\n",
            "118/118 [==============================] - 2s 18ms/step - loss: 0.2105 - accuracy: 0.9410 - val_loss: 0.2869 - val_accuracy: 0.9195\n"
          ]
        }
      ],
      "source": [
        "history = model_cnn.fit (train_images, train_labels,\n",
        "                         epochs=30, batch_size=512,\n",
        "                         validation_data=(test_images, test_labels))"
      ]
    },
    {
      "cell_type": "markdown",
      "source": [
        "## Evaluation of CNN model"
      ],
      "metadata": {
        "id": "euT4VsSkYV6U"
      }
    },
    {
      "cell_type": "code",
      "execution_count": 8,
      "metadata": {
        "colab": {
          "base_uri": "https://localhost:8080/",
          "height": 447
        },
        "id": "EUQqvtPHQ_yx",
        "outputId": "1e9f967e-5d0c-4e80-ce90-603700d51dd6"
      },
      "outputs": [
        {
          "output_type": "execute_result",
          "data": {
            "text/plain": [
              "<matplotlib.legend.Legend at 0x7fa4b99a2650>"
            ]
          },
          "metadata": {},
          "execution_count": 8
        },
        {
          "output_type": "display_data",
          "data": {
            "text/plain": [
              "<Figure size 640x480 with 1 Axes>"
            ],
            "image/png": "[encoded data removed]"
          },
          "metadata": {}
        }
      ],
      "source": [
        "import matplotlib.pyplot as plt\n",
        "\n",
        "plt.plot(history.history['loss'][1:], label='Train Loss')\n",
        "plt.plot(history.history['val_loss'][1:], label='Valid Loss')\n",
        "plt.legend()"
      ]
    },
    {
      "cell_type": "code",
      "execution_count": 9,
      "metadata": {
        "colab": {
          "base_uri": "https://localhost:8080/",
          "height": 451
        },
        "id": "AeCe-JZhRTNA",
        "outputId": "913b0fe0-ac24-4c77-a091-61485614339d"
      },
      "outputs": [
        {
          "output_type": "execute_result",
          "data": {
            "text/plain": [
              "<matplotlib.legend.Legend at 0x7fa4b9883f10>"
            ]
          },
          "metadata": {},
          "execution_count": 9
        },
        {
          "output_type": "display_data",
          "data": {
            "text/plain": [
              "<Figure size 640x480 with 1 Axes>"
            ],
            "image/png": "[encoded data removed]"
          },
          "metadata": {}
        }
      ],
      "source": [
        "plt.plot(history.history['accuracy'][1:], label='Train accuracy')\n",
        "plt.plot(history.history['val_accuracy'][1:], label='Valid accuracy')\n",
        "plt.legend()"
      ]
    },
    {
      "cell_type": "markdown",
      "source": [
        "## Prediction"
      ],
      "metadata": {
        "id": "WdBenqb4XM1L"
      }
    },
    {
      "cell_type": "code",
      "execution_count": 10,
      "metadata": {
        "id": "kajsQuaQgpnl",
        "colab": {
          "base_uri": "https://localhost:8080/"
        },
        "outputId": "3f67c85b-f459-4f37-94d3-a8830b3e0b57"
      },
      "outputs": [
        {
          "output_type": "stream",
          "name": "stdout",
          "text": [
            "313/313 [==============================] - 1s 2ms/step\n"
          ]
        }
      ],
      "source": [
        "pred_cnn = model_cnn.predict(test_images)"
      ]
    },
    {
      "cell_type": "code",
      "source": [
        "fig, axes = plt.subplots(1, 7, figsize=(25,2))\n",
        "for i in range(len(axes)):\n",
        "  axes[i].imshow(test_images[i], cmap='gray')\n",
        "  axes[i].set_axis_off()\n",
        "\n",
        "  title = f'True: {test_labels[i]} | P_cnn: {np.argmax(pred_cnn[i])}'\n",
        "  axes[i].set_title(title)\n"
      ],
      "metadata": {
        "id": "Ur-I2xquWxZS",
        "outputId": "e2e0b550-7348-43d8-d9bc-07baa784a9fc",
        "colab": {
          "base_uri": "https://localhost:8080/",
          "height": 147
        }
      },
      "execution_count": 12,
      "outputs": [
        {
          "output_type": "display_data",
          "data": {
            "text/plain": [
              "<Figure size 2500x200 with 7 Axes>"
            ],
            "image/png": "[encoded data removed]"
          },
          "metadata": {}
        }
      ]
    }
  ],
  "metadata": {
    "accelerator": "GPU",
    "colab": {
      "provenance": [],
      "include_colab_link": true
    },
    "kernelspec": {
      "display_name": "Python 3",
      "name": "python3"
    },
    "language_info": {
      "name": "python"
    }
  },
  "nbformat": 4,
  "nbformat_minor": 0
}